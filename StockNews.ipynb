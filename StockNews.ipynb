{
 "cells": [
  {
   "cell_type": "markdown",
   "metadata": {},
   "source": [
    "## Stock News Analysis\n",
    "\n",
    "#### Background\n",
    "I previously experimented with a sentiment/morality lexicon created by researchers at my university by creating a simple [sentiment analyzer](https://github.com/rohankatakam/SentimentAnalyzer/blob/master/sentiment_analyzer.ipynb). I borrowed the core functionality from that project to help me analyze stock news. \n",
    "\n",
    "#### Core Functionality\n",
    "The program collects a number of news articles for a given stock ticker, parses each article and derives the positive and negative sentiment percentages. The difference in the mean of the positive and negative percentages of all the articles are taken to find a net sentiment value.\n",
    "\n",
    "\n",
    "#### High Points\n",
    "I have found that the algorithm, yet simple, is quite effective and produces relatively accurate results when I look at how stocks are performing over time periods (in reality) and comparing this to what my algorithm produces over these respective periods. Further down, I will show you examples of this testing.\n",
    "\n",
    "#### Drawbacks\n",
    "The running time is quite slow. I am looking into ways how to speed it up, however I don't believe that it is possible to make it much faster. The running time is completely dependent on what your `limit` parameter is in the `getNews()` function. `limit` essentially specifies how many articles you want to include in your calculation. Of course, parsing more articles will take more time. However, gathering more artiucles will produce higher accuracy. When I am calling `getNews()` from other functions, I am setting `limit=5` because I feel that that provides the best balance between speed and accuracy. \n",
    "\n",
    "\n",
    "#### Future\n",
    "I plan on integrating NLTK VADER to provide even more accurate results. My goal is to implement this sentiment analysis in a stock trading program eventually."
   ]
  },
  {
   "cell_type": "code",
   "execution_count": 2,
   "metadata": {},
   "outputs": [
    {
     "name": "stderr",
     "output_type": "stream",
     "text": [
      "/Users/rohankatakam/.local/share/virtualenvs/invest-P10rcmgb/lib/python3.7/site-packages/pandas_datareader/compat/__init__.py:7: FutureWarning: pandas.util.testing is deprecated. Use the functions in the public API at pandas.testing instead.\n",
      "  from pandas.util.testing import assert_frame_equal\n"
     ]
    }
   ],
   "source": [
    "import pandas as pd\n",
    "from datetime import datetime\n",
    "from newspaper import Article\n",
    "import matplotlib.pyplot as plt\n",
    "from pygooglenews import GoogleNews\n",
    "from newspaper import Config\n",
    "from bs4 import BeautifulSoup\n",
    "from requests import get\n",
    "import numpy as np\n",
    "import pandas_datareader.data as web\n",
    "import matplotlib.pyplot as plt"
   ]
  },
  {
   "cell_type": "code",
   "execution_count": 3,
   "metadata": {},
   "outputs": [],
   "source": [
    "#### Lexicon Parsing\n",
    "\n",
    "df = pd.read_csv('data.txt',sep =\"|\", names = ['token', 'pos','syn_label','lemma', 'm_desc', 'm_type'])\n",
    "df['token']= df['token'].str.split(\" = \", n = 1, expand = True)[1]\n",
    "df['pos']= df['pos'].str.split(\" = \", n = 1, expand = True)[1]\n",
    "df['syn_label']= df['syn_label'].str.split(\" = \", n = 1, expand = True)[1]\n",
    "df['lemma']= df['lemma'].str.split(\" = \", n = 1, expand = True)[1]\n",
    "df['m_desc']= df['m_desc'].str.split(\" = \", n = 1, expand = True)[1]\n",
    "df['m_type']= df['m_type'].str.split(\" = \", n = 1, expand = True)[1]\n",
    "df.shape \n",
    "\n",
    "#(4636, 6)\n",
    "df.to_csv ('data.csv', index = None, header=True)"
   ]
  },
  {
   "cell_type": "code",
   "execution_count": 4,
   "metadata": {},
   "outputs": [],
   "source": [
    "def get_stock_info(ticker):\n",
    "    url = \"https://finance.yahoo.com/quote/\" + ticker + \"/profile?p=\" + ticker\n",
    "    response = get(url)\n",
    "    soup = BeautifulSoup(response.text)\n",
    "    name = \"\"\n",
    "    sector = \"\"\n",
    "    industry = \"\"\n",
    "    try:\n",
    "        sector = soup.find(\"span\", {\"data-reactid\": \"21\"}).text\n",
    "        industry = soup.find(\"span\", {\"data-reactid\": \"25\"}).text\n",
    "        name = soup.find(\"h3\", {\"data-reactid\": \"6\"}).text\n",
    "        if sector == \"Sector\":\n",
    "            sector = soup.find(\"span\", {\"data-reactid\": \"23\"}).text\n",
    "        if industry == \"Industry\":\n",
    "            industry = soup.find(\"span\", {\"data-reactid\": \"27\"}).text\n",
    "    except:\n",
    "        name = \"Unavailable\"\n",
    "        sector = \"Unavailable\"\n",
    "        industry = \"Unavailable\"\n",
    "    \n",
    "    return (name, sector, industry)"
   ]
  },
  {
   "cell_type": "code",
   "execution_count": 5,
   "metadata": {},
   "outputs": [],
   "source": [
    "### TickerDF\n",
    "## Returns dataframe of data for a stock from start to end day\n",
    "# ticker: string (ex: \"MSFT\")\n",
    "# start : tuple/array (ex: (2020, 1, 3), [2020, 1, 3])\n",
    "# end : tuple/array (ex: (2020, 1, 3), [2020, 1, 3])\n",
    "def TickerDF(ticker, start, end):\n",
    "    return web.DataReader(ticker, 'yahoo', datetime(start[2],start[0],start[1]), datetime(end[2],end[0],end[1]))"
   ]
  },
  {
   "cell_type": "code",
   "execution_count": 6,
   "metadata": {},
   "outputs": [],
   "source": [
    "def df_string(text):\n",
    "    # Array of all lowercase words in 'text'\n",
    "    str_arr = text.lower().split()\n",
    "                \n",
    "    # Virtues in lexicon\n",
    "    virtues = [\"CareVirtue\", \"CareVice\", \"FairnessVirtue\", \"FairnessVice\", \"IngroupVirtue\", \"IngroupVice\", \"AuthorityVirtue\", \"AuthorityVice\",\"PurityVirtue\", \"PurityVice\", \"GeneralVirtue\", \"GeneralVice\"]\n",
    "    \n",
    "    # Arrays of each virtue which will contain words that pertain\n",
    "    care = []\n",
    "    harm = []\n",
    "    fairness = []\n",
    "    cheating = []\n",
    "    loyalty = []\n",
    "    betrayal = []\n",
    "    authority = []\n",
    "    subversion = []\n",
    "    purity = []\n",
    "    degradation = []\n",
    "    generalvirtue = []\n",
    "    generalvice = []\n",
    "    \n",
    "    # Sort through each word in lexicon\n",
    "    for word in df[\"token\"].values:\n",
    "        # Check if word from lexicon is in speech_arr\n",
    "        if str_arr.count(word) != 0 :\n",
    "            # Get respective virtue of word\n",
    "            virtue = df.loc[df['token'] == word][\"m_desc\"].values[0]\n",
    "            \n",
    "            # Append (word, virtue) to respective virtue array\n",
    "            if virtue == \"CareVirtue\" and not((word, str_arr.count(word)) in care):\n",
    "                care.append((word, str_arr.count(word)))\n",
    "            if virtue == \"CareVice\" and not((word, str_arr.count(word)) in harm):\n",
    "                harm.append((word, str_arr.count(word)))\n",
    "            if virtue == \"FairnessVirtue\" and not((word, str_arr.count(word)) in fairness):\n",
    "                fairness.append((word, str_arr.count(word)))\n",
    "            if virtue == \"FairnessVice\" and not((word, str_arr.count(word)) in cheating):\n",
    "                cheating.append((word, str_arr.count(word)))\n",
    "            if virtue == \"IngroupVirtue\" and not((word, str_arr.count(word)) in loyalty):\n",
    "                loyalty.append((word, str_arr.count(word)))\n",
    "            if virtue == \"IngroupVice\" and not((word, str_arr.count(word)) in betrayal):\n",
    "                betrayal.append((word, str_arr.count(word)))\n",
    "            if virtue == \"AuthorityVirtue\" and not((word, str_arr.count(word)) in authority):\n",
    "                authority.append((word, str_arr.count(word)))\n",
    "            if virtue == \"AuthorityVice\" and not((word, str_arr.count(word)) in subversion):\n",
    "                subversion.append((word, str_arr.count(word)))\n",
    "            if virtue == \"PurityVirtue\" and not((word, str_arr.count(word)) in purity):\n",
    "                purity.append((word, str_arr.count(word)))\n",
    "            if virtue == \"PurityVice\" and not((word, str_arr.count(word)) in degradation):\n",
    "                degradation.append((word, str_arr.count(word)))\n",
    "            if virtue == \"GeneralVirtue\" and not((word, str_arr.count(word)) in generalvirtue):\n",
    "                generalvirtue.append((word, str_arr.count(word)))\n",
    "            if virtue == \"GeneralVice\" and not((word, str_arr.count(word)) in generalvice):\n",
    "                generalvice.append((word, str_arr.count(word)))\n",
    "\n",
    "\n",
    "    # Create new Data Frame with Virtue, Number, and Words\n",
    "    data = [['Care', len(care), care], ['Harm', len(harm), harm], ['Fairness', len(fairness), fairness], ['Cheating', len(cheating), cheating], ['Loyalty', len(loyalty), loyalty], ['Betrayal', len(betrayal), betrayal], ['Authority', len(authority), authority], ['Subversion', len(subversion), subversion], ['Purity', len(purity), purity], ['Degradation', len(degradation), degradation], ['General Virtue', len(generalvirtue), generalvirtue], ['General Vice', len(generalvice), generalvice]] \n",
    "    \n",
    "    # Return Data Frame to be used for further use\n",
    "    return(pd.DataFrame(data, columns = ['Virtue', 'Number', 'Words']))"
   ]
  },
  {
   "cell_type": "code",
   "execution_count": 7,
   "metadata": {},
   "outputs": [],
   "source": [
    "def get_news(ticker, start_date, end_date, limit):\n",
    "    gn = GoogleNews()\n",
    "    \n",
    "    stock_info = get_stock_info(ticker)\n",
    "    \n",
    "    \n",
    "    search = gn.search(stock_info[0] + \" \" + ticker, from_ = start_date, to_ = end_date)\n",
    "    user_agent = 'Mozilla/5.0 (Macintosh; Intel Mac OS X 10_11_5) AppleWebKit/537.36 (KHTML, like Gecko) Chrome/50.0.2661.102 Safari/537.36'\n",
    "    config = Config()\n",
    "    config.browser_user_agent = user_agent\n",
    "    \n",
    "    news = []\n",
    "\n",
    "    \n",
    "    for row in search['entries']:\n",
    "        if(len(news) == limit):\n",
    "            return news\n",
    "        \n",
    "        \n",
    "        try:\n",
    "            article = Article(row['links'][0]['href'], config=config)\n",
    "            article.download()\n",
    "            article.parse()   \n",
    "\n",
    "            if([ele for ele in stock_info[0].lower().split() if(ele in row['title'].lower())]):\n",
    "                news.append({\n",
    "                    'title' : row['title'],\n",
    "                    'semantic_df' : df_string(article.text),\n",
    "                    'article_length' : len(article.text)\n",
    "                })\n",
    "                \n",
    "                \n",
    "        except:\n",
    "            pass\n",
    "\n",
    "    \n",
    "    return news"
   ]
  },
  {
   "cell_type": "code",
   "execution_count": 8,
   "metadata": {},
   "outputs": [],
   "source": [
    "def negPercent(df, article_length):\n",
    "    return (df[df[\"Virtue\"] == \"Harm\"]['Number'].values[0] +\n",
    "    df[df[\"Virtue\"] == \"Cheating\"]['Number'].values[0] + \n",
    "    df[df[\"Virtue\"] == \"Betrayal\"]['Number'].values[0] + \n",
    "    df[df[\"Virtue\"] == \"Subversion\"]['Number'].values[0])/article_length"
   ]
  },
  {
   "cell_type": "code",
   "execution_count": 9,
   "metadata": {},
   "outputs": [],
   "source": [
    "def posPercent(df, article_length):\n",
    "    return (df[df[\"Virtue\"] == \"Care\"]['Number'].values[0] +\n",
    "    df[df[\"Virtue\"] == \"Fairness\"]['Number'].values[0] + \n",
    "    df[df[\"Virtue\"] == \"Loyalty\"]['Number'].values[0] + \n",
    "    df[df[\"Virtue\"] == \"Authority\"]['Number'].values[0])/article_length"
   ]
  },
  {
   "cell_type": "code",
   "execution_count": 10,
   "metadata": {},
   "outputs": [],
   "source": [
    "def netSentiment(news):\n",
    "    if len(news) == 0:\n",
    "        return None\n",
    "    pos_percents = []\n",
    "    neg_percents = []\n",
    "    for i in range(len(news)):\n",
    "        pos_percents.append(posPercent(news[i]['semantic_df'], news[i]['article_length']))\n",
    "        neg_percents.append(negPercent(news[i]['semantic_df'], news[i]['article_length']))\n",
    "\n",
    "    return ((np.mean(pos_percents) - np.mean(neg_percents)) * 1000)"
   ]
  },
  {
   "cell_type": "code",
   "execution_count": 11,
   "metadata": {},
   "outputs": [],
   "source": [
    "def valueCategory(value):\n",
    "    if type(value) == float:\n",
    "        if value > 3.5:\n",
    "            color = 'darkgreen'\n",
    "        elif value > 2.5:\n",
    "            color = 'green'\n",
    "        elif value > 1.5:\n",
    "            color = 'yellow'\n",
    "        elif value > 1.0:\n",
    "            color = 'red'\n",
    "        else:\n",
    "            color = 'darkred'\n",
    "\n",
    "        return 'background-color: %s' % color\n",
    "    else:\n",
    "        return 'color: %s' % 'black'"
   ]
  },
  {
   "cell_type": "code",
   "execution_count": 12,
   "metadata": {},
   "outputs": [],
   "source": [
    "def sentimentTable(stocks, from_, to_):\n",
    "    data = []\n",
    "    for stock in stocks:\n",
    "        data.append([stock, netSentiment(get_news(stock, from_, to_, 5))])\n",
    "    \n",
    "    return pd.DataFrame(data, columns = ['Stock', 'Net Sentiment']).sort_values(by=['Net Sentiment'], ascending=False).style.applymap(valueCategory)"
   ]
  },
  {
   "cell_type": "markdown",
   "metadata": {},
   "source": [
    "## Testing\n",
    "\n",
    "### Data Gathering\n",
    "Here, I am creating a sentiment table for the same four stock tickers for three different week spans. \n",
    "+ 6/7 - 6/13/20\n",
    "+ 7/5 - 7/11/20\n",
    "+ 7/8 - 7/14/20"
   ]
  },
  {
   "cell_type": "code",
   "execution_count": 13,
   "metadata": {},
   "outputs": [],
   "source": [
    "june_week = sentimentTable([\"ATVI\", \"BABA\", \"EROS\", \"NIO\"], '2020-06-12', '2020-06-18')"
   ]
  },
  {
   "cell_type": "code",
   "execution_count": 15,
   "metadata": {},
   "outputs": [],
   "source": [
    "july_week = sentimentTable([\"ATVI\", \"BABA\", \"EROS\", \"NIO\"], '2020-07-05', '2020-07-11')"
   ]
  },
  {
   "cell_type": "code",
   "execution_count": 16,
   "metadata": {},
   "outputs": [],
   "source": [
    "recent_week = sentimentTable([\"ATVI\", \"BABA\", \"EROS\", \"NIO\"], '2020-07-08', '2020-07-14')"
   ]
  },
  {
   "cell_type": "markdown",
   "metadata": {},
   "source": [
    "### Conclusions"
   ]
  },
  {
   "cell_type": "markdown",
   "metadata": {},
   "source": [
    "#### Early June Week\n",
    "+ NIO was highly praised by news sources according to the algorithm. It is nearly an outlier in this data.\n",
    "+ BABA also was reflected favorably, however not the extent of NIO"
   ]
  },
  {
   "cell_type": "code",
   "execution_count": 14,
   "metadata": {},
   "outputs": [
    {
     "data": {
      "text/html": [
       "<style  type=\"text/css\" >\n",
       "    #T_2e321848_c619_11ea_94b2_88e9fe5ce159row0_col0 {\n",
       "            color:  black;\n",
       "        }    #T_2e321848_c619_11ea_94b2_88e9fe5ce159row0_col1 {\n",
       "            background-color:  darkgreen;\n",
       "        }    #T_2e321848_c619_11ea_94b2_88e9fe5ce159row1_col0 {\n",
       "            color:  black;\n",
       "        }    #T_2e321848_c619_11ea_94b2_88e9fe5ce159row1_col1 {\n",
       "            background-color:  green;\n",
       "        }    #T_2e321848_c619_11ea_94b2_88e9fe5ce159row2_col0 {\n",
       "            color:  black;\n",
       "        }    #T_2e321848_c619_11ea_94b2_88e9fe5ce159row2_col1 {\n",
       "            background-color:  yellow;\n",
       "        }    #T_2e321848_c619_11ea_94b2_88e9fe5ce159row3_col0 {\n",
       "            color:  black;\n",
       "        }    #T_2e321848_c619_11ea_94b2_88e9fe5ce159row3_col1 {\n",
       "            background-color:  yellow;\n",
       "        }</style><table id=\"T_2e321848_c619_11ea_94b2_88e9fe5ce159\" ><thead>    <tr>        <th class=\"blank level0\" ></th>        <th class=\"col_heading level0 col0\" >Stock</th>        <th class=\"col_heading level0 col1\" >Net Sentiment</th>    </tr></thead><tbody>\n",
       "                <tr>\n",
       "                        <th id=\"T_2e321848_c619_11ea_94b2_88e9fe5ce159level0_row0\" class=\"row_heading level0 row0\" >3</th>\n",
       "                        <td id=\"T_2e321848_c619_11ea_94b2_88e9fe5ce159row0_col0\" class=\"data row0 col0\" >NIO</td>\n",
       "                        <td id=\"T_2e321848_c619_11ea_94b2_88e9fe5ce159row0_col1\" class=\"data row0 col1\" >4.959670</td>\n",
       "            </tr>\n",
       "            <tr>\n",
       "                        <th id=\"T_2e321848_c619_11ea_94b2_88e9fe5ce159level0_row1\" class=\"row_heading level0 row1\" >1</th>\n",
       "                        <td id=\"T_2e321848_c619_11ea_94b2_88e9fe5ce159row1_col0\" class=\"data row1 col0\" >BABA</td>\n",
       "                        <td id=\"T_2e321848_c619_11ea_94b2_88e9fe5ce159row1_col1\" class=\"data row1 col1\" >2.709063</td>\n",
       "            </tr>\n",
       "            <tr>\n",
       "                        <th id=\"T_2e321848_c619_11ea_94b2_88e9fe5ce159level0_row2\" class=\"row_heading level0 row2\" >2</th>\n",
       "                        <td id=\"T_2e321848_c619_11ea_94b2_88e9fe5ce159row2_col0\" class=\"data row2 col0\" >EROS</td>\n",
       "                        <td id=\"T_2e321848_c619_11ea_94b2_88e9fe5ce159row2_col1\" class=\"data row2 col1\" >2.484812</td>\n",
       "            </tr>\n",
       "            <tr>\n",
       "                        <th id=\"T_2e321848_c619_11ea_94b2_88e9fe5ce159level0_row3\" class=\"row_heading level0 row3\" >0</th>\n",
       "                        <td id=\"T_2e321848_c619_11ea_94b2_88e9fe5ce159row3_col0\" class=\"data row3 col0\" >ATVI</td>\n",
       "                        <td id=\"T_2e321848_c619_11ea_94b2_88e9fe5ce159row3_col1\" class=\"data row3 col1\" >1.609223</td>\n",
       "            </tr>\n",
       "    </tbody></table>"
      ],
      "text/plain": [
       "<pandas.io.formats.style.Styler at 0x11b00da90>"
      ]
     },
     "execution_count": 14,
     "metadata": {},
     "output_type": "execute_result"
    }
   ],
   "source": [
    "june_week"
   ]
  },
  {
   "cell_type": "code",
   "execution_count": 17,
   "metadata": {},
   "outputs": [
    {
     "data": {
      "image/png": "[encoded data removed]",
      "text/plain": [
       "<Figure size 432x288 with 1 Axes>"
      ]
     },
     "metadata": {
      "needs_background": "light"
     },
     "output_type": "display_data"
    }
   ],
   "source": [
    "plt.plot(TickerDF(\"BABA\", (6,12,2020), (6,18,2020))['Close'], label=\"BABA\")\n",
    "plt.legend()\n",
    "plt.show()"
   ]
  },
  {
   "cell_type": "code",
   "execution_count": 19,
   "metadata": {},
   "outputs": [
    {
     "data": {
      "image/png": "[encoded data removed]",
      "text/plain": [
       "<Figure size 432x288 with 1 Axes>"
      ]
     },
     "metadata": {
      "needs_background": "light"
     },
     "output_type": "display_data"
    }
   ],
   "source": [
    "plt.plot(TickerDF(\"NIO\", (6,12,2020), (6,18,2020))['Close'], label=\"NIO\")\n",
    "plt.legend()\n",
    "plt.show()"
   ]
  },
  {
   "cell_type": "markdown",
   "metadata": {},
   "source": [
    "#### Early July Week\n",
    "+ NIO fell significantly in Net Sentiment\n",
    "+ BABA increased marginally in Net Sentiment\n",
    "+ ATVI continues to struggle against the algorithm"
   ]
  },
  {
   "cell_type": "code",
   "execution_count": 20,
   "metadata": {},
   "outputs": [
    {
     "data": {
      "text/html": [
       "<style  type=\"text/css\" >\n",
       "    #T_f25e5e98_c619_11ea_94b2_88e9fe5ce159row0_col0 {\n",
       "            color:  black;\n",
       "        }    #T_f25e5e98_c619_11ea_94b2_88e9fe5ce159row0_col1 {\n",
       "            background-color:  darkgreen;\n",
       "        }    #T_f25e5e98_c619_11ea_94b2_88e9fe5ce159row1_col0 {\n",
       "            color:  black;\n",
       "        }    #T_f25e5e98_c619_11ea_94b2_88e9fe5ce159row1_col1 {\n",
       "            background-color:  green;\n",
       "        }    #T_f25e5e98_c619_11ea_94b2_88e9fe5ce159row2_col0 {\n",
       "            color:  black;\n",
       "        }    #T_f25e5e98_c619_11ea_94b2_88e9fe5ce159row2_col1 {\n",
       "            background-color:  yellow;\n",
       "        }    #T_f25e5e98_c619_11ea_94b2_88e9fe5ce159row3_col0 {\n",
       "            color:  black;\n",
       "        }    #T_f25e5e98_c619_11ea_94b2_88e9fe5ce159row3_col1 {\n",
       "            background-color:  yellow;\n",
       "        }</style><table id=\"T_f25e5e98_c619_11ea_94b2_88e9fe5ce159\" ><thead>    <tr>        <th class=\"blank level0\" ></th>        <th class=\"col_heading level0 col0\" >Stock</th>        <th class=\"col_heading level0 col1\" >Net Sentiment</th>    </tr></thead><tbody>\n",
       "                <tr>\n",
       "                        <th id=\"T_f25e5e98_c619_11ea_94b2_88e9fe5ce159level0_row0\" class=\"row_heading level0 row0\" >1</th>\n",
       "                        <td id=\"T_f25e5e98_c619_11ea_94b2_88e9fe5ce159row0_col0\" class=\"data row0 col0\" >BABA</td>\n",
       "                        <td id=\"T_f25e5e98_c619_11ea_94b2_88e9fe5ce159row0_col1\" class=\"data row0 col1\" >3.537082</td>\n",
       "            </tr>\n",
       "            <tr>\n",
       "                        <th id=\"T_f25e5e98_c619_11ea_94b2_88e9fe5ce159level0_row1\" class=\"row_heading level0 row1\" >2</th>\n",
       "                        <td id=\"T_f25e5e98_c619_11ea_94b2_88e9fe5ce159row1_col0\" class=\"data row1 col0\" >EROS</td>\n",
       "                        <td id=\"T_f25e5e98_c619_11ea_94b2_88e9fe5ce159row1_col1\" class=\"data row1 col1\" >2.637978</td>\n",
       "            </tr>\n",
       "            <tr>\n",
       "                        <th id=\"T_f25e5e98_c619_11ea_94b2_88e9fe5ce159level0_row2\" class=\"row_heading level0 row2\" >3</th>\n",
       "                        <td id=\"T_f25e5e98_c619_11ea_94b2_88e9fe5ce159row2_col0\" class=\"data row2 col0\" >NIO</td>\n",
       "                        <td id=\"T_f25e5e98_c619_11ea_94b2_88e9fe5ce159row2_col1\" class=\"data row2 col1\" >1.825364</td>\n",
       "            </tr>\n",
       "            <tr>\n",
       "                        <th id=\"T_f25e5e98_c619_11ea_94b2_88e9fe5ce159level0_row3\" class=\"row_heading level0 row3\" >0</th>\n",
       "                        <td id=\"T_f25e5e98_c619_11ea_94b2_88e9fe5ce159row3_col0\" class=\"data row3 col0\" >ATVI</td>\n",
       "                        <td id=\"T_f25e5e98_c619_11ea_94b2_88e9fe5ce159row3_col1\" class=\"data row3 col1\" >1.629934</td>\n",
       "            </tr>\n",
       "    </tbody></table>"
      ],
      "text/plain": [
       "<pandas.io.formats.style.Styler at 0x11b15bcd0>"
      ]
     },
     "execution_count": 20,
     "metadata": {},
     "output_type": "execute_result"
    }
   ],
   "source": [
    "july_week"
   ]
  },
  {
   "cell_type": "code",
   "execution_count": 122,
   "metadata": {},
   "outputs": [
    {
     "data": {
      "image/png": "[encoded data removed]",
      "text/plain": [
       "<Figure size 432x288 with 1 Axes>"
      ]
     },
     "metadata": {
      "needs_background": "light"
     },
     "output_type": "display_data"
    }
   ],
   "source": [
    "plt.plot(TickerDF(\"NIO\", (7,5,2020), (7,11,2020))['Close'], label=\"NIO\")\n",
    "plt.legend()\n",
    "plt.show()"
   ]
  },
  {
   "cell_type": "code",
   "execution_count": 125,
   "metadata": {},
   "outputs": [
    {
     "data": {
      "image/png": "[encoded data removed]",
      "text/plain": [
       "<Figure size 432x288 with 1 Axes>"
      ]
     },
     "metadata": {
      "needs_background": "light"
     },
     "output_type": "display_data"
    }
   ],
   "source": [
    "plt.plot(TickerDF(\"BABA\", (7,5,2020), (7,11,2020))['Close'], label=\"BABA\")\n",
    "plt.legend()\n",
    "plt.show()"
   ]
  },
  {
   "cell_type": "markdown",
   "metadata": {},
   "source": [
    "#### Most Recent Week\n",
    "+ NIO fell to bottom of table\n",
    "+ BABA has kept a strong Net Sentiment.\n",
    "+ ATVI and EROS are not particularly praised well\n",
    "\n",
    "NOTE: Jack Ma sold $9.6b in BABA shares yesterday (7/13/2020), which was likely the cause in the recent large dip. Although, if you read through articles about BABA, they still remain highly favorable of the stock"
   ]
  },
  {
   "cell_type": "code",
   "execution_count": 103,
   "metadata": {},
   "outputs": [
    {
     "data": {
      "text/html": [
       "<style  type=\"text/css\" >\n",
       "    #T_988b2ce4_c609_11ea_b381_88e9fe5ce159row0_col0 {\n",
       "            color:  black;\n",
       "        }    #T_988b2ce4_c609_11ea_b381_88e9fe5ce159row0_col1 {\n",
       "            background-color:  green;\n",
       "        }    #T_988b2ce4_c609_11ea_b381_88e9fe5ce159row1_col0 {\n",
       "            color:  black;\n",
       "        }    #T_988b2ce4_c609_11ea_b381_88e9fe5ce159row1_col1 {\n",
       "            background-color:  yellow;\n",
       "        }    #T_988b2ce4_c609_11ea_b381_88e9fe5ce159row2_col0 {\n",
       "            color:  black;\n",
       "        }    #T_988b2ce4_c609_11ea_b381_88e9fe5ce159row2_col1 {\n",
       "            background-color:  yellow;\n",
       "        }    #T_988b2ce4_c609_11ea_b381_88e9fe5ce159row3_col0 {\n",
       "            color:  black;\n",
       "        }    #T_988b2ce4_c609_11ea_b381_88e9fe5ce159row3_col1 {\n",
       "            background-color:  red;\n",
       "        }</style><table id=\"T_988b2ce4_c609_11ea_b381_88e9fe5ce159\" ><thead>    <tr>        <th class=\"blank level0\" ></th>        <th class=\"col_heading level0 col0\" >Stock</th>        <th class=\"col_heading level0 col1\" >Net Sentiment</th>    </tr></thead><tbody>\n",
       "                <tr>\n",
       "                        <th id=\"T_988b2ce4_c609_11ea_b381_88e9fe5ce159level0_row0\" class=\"row_heading level0 row0\" >1</th>\n",
       "                        <td id=\"T_988b2ce4_c609_11ea_b381_88e9fe5ce159row0_col0\" class=\"data row0 col0\" >BABA</td>\n",
       "                        <td id=\"T_988b2ce4_c609_11ea_b381_88e9fe5ce159row0_col1\" class=\"data row0 col1\" >3.403591</td>\n",
       "            </tr>\n",
       "            <tr>\n",
       "                        <th id=\"T_988b2ce4_c609_11ea_b381_88e9fe5ce159level0_row1\" class=\"row_heading level0 row1\" >2</th>\n",
       "                        <td id=\"T_988b2ce4_c609_11ea_b381_88e9fe5ce159row1_col0\" class=\"data row1 col0\" >EROS</td>\n",
       "                        <td id=\"T_988b2ce4_c609_11ea_b381_88e9fe5ce159row1_col1\" class=\"data row1 col1\" >1.927996</td>\n",
       "            </tr>\n",
       "            <tr>\n",
       "                        <th id=\"T_988b2ce4_c609_11ea_b381_88e9fe5ce159level0_row2\" class=\"row_heading level0 row2\" >0</th>\n",
       "                        <td id=\"T_988b2ce4_c609_11ea_b381_88e9fe5ce159row2_col0\" class=\"data row2 col0\" >ATVI</td>\n",
       "                        <td id=\"T_988b2ce4_c609_11ea_b381_88e9fe5ce159row2_col1\" class=\"data row2 col1\" >1.809762</td>\n",
       "            </tr>\n",
       "            <tr>\n",
       "                        <th id=\"T_988b2ce4_c609_11ea_b381_88e9fe5ce159level0_row3\" class=\"row_heading level0 row3\" >3</th>\n",
       "                        <td id=\"T_988b2ce4_c609_11ea_b381_88e9fe5ce159row3_col0\" class=\"data row3 col0\" >NIO</td>\n",
       "                        <td id=\"T_988b2ce4_c609_11ea_b381_88e9fe5ce159row3_col1\" class=\"data row3 col1\" >1.495878</td>\n",
       "            </tr>\n",
       "    </tbody></table>"
      ],
      "text/plain": [
       "<pandas.io.formats.style.Styler at 0x110e24e90>"
      ]
     },
     "execution_count": 103,
     "metadata": {},
     "output_type": "execute_result"
    }
   ],
   "source": [
    "recent_week"
   ]
  },
  {
   "cell_type": "code",
   "execution_count": 21,
   "metadata": {},
   "outputs": [
    {
     "data": {
      "image/png": "[encoded data removed]",
      "text/plain": [
       "<Figure size 432x288 with 1 Axes>"
      ]
     },
     "metadata": {
      "needs_background": "light"
     },
     "output_type": "display_data"
    }
   ],
   "source": [
    "plt.plot(TickerDF(\"BABA\", (7,8,2020), (7,14,2020))['Close'], label=\"BABA\")\n",
    "plt.legend()\n",
    "plt.show()"
   ]
  },
  {
   "cell_type": "code",
   "execution_count": 123,
   "metadata": {},
   "outputs": [
    {
     "data": {
      "image/png": "[encoded data removed]",
      "text/plain": [
       "<Figure size 432x288 with 1 Axes>"
      ]
     },
     "metadata": {
      "needs_background": "light"
     },
     "output_type": "display_data"
    }
   ],
   "source": [
    "plt.plot(TickerDF(\"NIO\", (7,8,2020), (7,14,2020))['Close'], label=\"NIO\")\n",
    "plt.legend()\n",
    "plt.show()"
   ]
  }
 ],
 "metadata": {
  "kernelspec": {
   "display_name": "Python 3",
   "language": "python",
   "name": "python3"
  },
  "language_info": {
   "codemirror_mode": {
    "name": "ipython",
    "version": 3
   },
   "file_extension": ".py",
   "mimetype": "text/x-python",
   "name": "python",
   "nbconvert_exporter": "python",
   "pygments_lexer": "ipython3",
   "version": "3.7.4"
  }
 },
 "nbformat": 4,
 "nbformat_minor": 4
}
